{
 "cells": [
  {
   "cell_type": "markdown",
   "id": "b6dacd4a",
   "metadata": {},
   "source": [
    "<h1 style=\"font-size:3rem;color:green;\"> Introduction Jupyter</h1>"
   ]
  },
  {
   "cell_type": "markdown",
   "id": "483e77fe",
   "metadata": {},
   "source": [
    "# Name"
   ]
  },
  {
   "cell_type": "markdown",
   "id": "2404a461",
   "metadata": {},
   "source": [
    "My name is Amos Kouaoh"
   ]
  },
  {
   "cell_type": "markdown",
   "id": "3ba94e9b",
   "metadata": {},
   "source": [
    "# Background"
   ]
  },
  {
   "cell_type": "markdown",
   "id": "dddbf4f3",
   "metadata": {},
   "source": [
    "I am a SOC analyst and i studied It back home as Network engineer"
   ]
  },
  {
   "cell_type": "markdown",
   "id": "e3077a68",
   "metadata": {},
   "source": [
    " # Interest"
   ]
  },
  {
   "cell_type": "markdown",
   "id": "2ce9a9bf",
   "metadata": {},
   "source": [
    "I want to learn about programing especially Phython "
   ]
  },
  {
   "cell_type": "code",
   "execution_count": null,
   "id": "4e6bdcfe",
   "metadata": {},
   "outputs": [],
   "source": []
  }
 ],
 "metadata": {
  "kernelspec": {
   "display_name": "Python 3 (ipykernel)",
   "language": "python",
   "name": "python3"
  },
  "language_info": {
   "codemirror_mode": {
    "name": "ipython",
    "version": 3
   },
   "file_extension": ".py",
   "mimetype": "text/x-python",
   "name": "python",
   "nbconvert_exporter": "python",
   "pygments_lexer": "ipython3",
   "version": "3.9.7"
  }
 },
 "nbformat": 4,
 "nbformat_minor": 5
}
